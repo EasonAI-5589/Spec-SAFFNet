{
 "cells": [
  {
   "cell_type": "code",
   "execution_count": 1,
   "metadata": {},
   "outputs": [
    {
     "name": "stdout",
     "output_type": "stream",
     "text": [
      "当前工作目录：/Users/guoyichen/Research_On_Mac/XRF光谱含量预测/01绘图\n"
     ]
    }
   ],
   "source": [
    "import os\n",
    "\n",
    "# 方法1: 获取当前工作目录\n",
    "current_directory = os.getcwd()\n",
    "print(f\"当前工作目录：{current_directory}\")"
   ]
  },
  {
   "cell_type": "code",
   "execution_count": 2,
   "metadata": {},
   "outputs": [
    {
     "name": "stdout",
     "output_type": "stream",
     "text": [
      "/Users/guoyichen/Research_On_Mac/XRF光谱含量预测\n"
     ]
    }
   ],
   "source": [
    "new_directory = '/Users/guoyichen/Research_On_Mac/XRF光谱含量预测'  # 将路径替换为你想要切换到的目录路径\n",
    "%cd {new_directory}"
   ]
  },
  {
   "cell_type": "code",
   "execution_count": 5,
   "metadata": {},
   "outputs": [
    {
     "name": "stdout",
     "output_type": "stream",
     "text": [
      "(57, 6)\n"
     ]
    }
   ],
   "source": [
    "from functions.data_preparation import *\n",
    "\n",
    "data_expert_path = './00数据集/dataset1.xlsx'\n",
    "data,label=data_reader(data_expert_path)\n",
    "\n",
    "# print(data[0].shape)\n",
    "# data_expert_path = './00数据集/dataset1.xlsx'\n",
    "# datasheet,data,label=load(data_expert_path)\n",
    "\n",
    "# print(data[0])\n",
    "# print(label[0])"
   ]
  },
  {
   "cell_type": "code",
   "execution_count": null,
   "metadata": {},
   "outputs": [],
   "source": []
  }
 ],
 "metadata": {
  "kernelspec": {
   "display_name": "base",
   "language": "python",
   "name": "python3"
  },
  "language_info": {
   "codemirror_mode": {
    "name": "ipython",
    "version": 3
   },
   "file_extension": ".py",
   "mimetype": "text/x-python",
   "name": "python",
   "nbconvert_exporter": "python",
   "pygments_lexer": "ipython3",
   "version": "3.9.13"
  }
 },
 "nbformat": 4,
 "nbformat_minor": 2
}
